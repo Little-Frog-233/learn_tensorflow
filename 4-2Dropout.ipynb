{
 "cells": [
  {
   "cell_type": "code",
   "execution_count": 1,
   "metadata": {},
   "outputs": [],
   "source": [
    "import tensorflow as tf\n",
    "from tensorflow.examples.tutorials.mnist import input_data"
   ]
  },
  {
   "cell_type": "code",
   "execution_count": 2,
   "metadata": {},
   "outputs": [
    {
     "name": "stdout",
     "output_type": "stream",
     "text": [
      "WARNING:tensorflow:From <ipython-input-2-fd875e947272>:2: read_data_sets (from tensorflow.contrib.learn.python.learn.datasets.mnist) is deprecated and will be removed in a future version.\n",
      "Instructions for updating:\n",
      "Please use alternatives such as official/mnist/dataset.py from tensorflow/models.\n",
      "WARNING:tensorflow:From /Users/ruicheng/anaconda3/lib/python3.6/site-packages/tensorflow/contrib/learn/python/learn/datasets/mnist.py:260: maybe_download (from tensorflow.contrib.learn.python.learn.datasets.base) is deprecated and will be removed in a future version.\n",
      "Instructions for updating:\n",
      "Please write your own downloading logic.\n",
      "WARNING:tensorflow:From /Users/ruicheng/anaconda3/lib/python3.6/site-packages/tensorflow/contrib/learn/python/learn/datasets/mnist.py:262: extract_images (from tensorflow.contrib.learn.python.learn.datasets.mnist) is deprecated and will be removed in a future version.\n",
      "Instructions for updating:\n",
      "Please use tf.data to implement this functionality.\n",
      "Extracting /Users/ruicheng/Documents/上海师范研究生/tensorflow学习/MNIST_data/train-images-idx3-ubyte.gz\n",
      "WARNING:tensorflow:From /Users/ruicheng/anaconda3/lib/python3.6/site-packages/tensorflow/contrib/learn/python/learn/datasets/mnist.py:267: extract_labels (from tensorflow.contrib.learn.python.learn.datasets.mnist) is deprecated and will be removed in a future version.\n",
      "Instructions for updating:\n",
      "Please use tf.data to implement this functionality.\n",
      "Extracting /Users/ruicheng/Documents/上海师范研究生/tensorflow学习/MNIST_data/train-labels-idx1-ubyte.gz\n",
      "WARNING:tensorflow:From /Users/ruicheng/anaconda3/lib/python3.6/site-packages/tensorflow/contrib/learn/python/learn/datasets/mnist.py:110: dense_to_one_hot (from tensorflow.contrib.learn.python.learn.datasets.mnist) is deprecated and will be removed in a future version.\n",
      "Instructions for updating:\n",
      "Please use tf.one_hot on tensors.\n",
      "Extracting /Users/ruicheng/Documents/上海师范研究生/tensorflow学习/MNIST_data/t10k-images-idx3-ubyte.gz\n",
      "Extracting /Users/ruicheng/Documents/上海师范研究生/tensorflow学习/MNIST_data/t10k-labels-idx1-ubyte.gz\n",
      "WARNING:tensorflow:From /Users/ruicheng/anaconda3/lib/python3.6/site-packages/tensorflow/contrib/learn/python/learn/datasets/mnist.py:290: DataSet.__init__ (from tensorflow.contrib.learn.python.learn.datasets.mnist) is deprecated and will be removed in a future version.\n",
      "Instructions for updating:\n",
      "Please use alternatives such as official/mnist/dataset.py from tensorflow/models.\n"
     ]
    }
   ],
   "source": [
    "#载入数据集\n",
    "mnist = input_data.read_data_sets('/Users/ruicheng/Documents/上海师范研究生/tensorflow学习/MNIST_data',one_hot=True)"
   ]
  },
  {
   "cell_type": "code",
   "execution_count": 3,
   "metadata": {},
   "outputs": [
    {
     "name": "stdout",
     "output_type": "stream",
     "text": [
      "WARNING:tensorflow:From <ipython-input-3-cee32af7d5a7>:36: softmax_cross_entropy_with_logits (from tensorflow.python.ops.nn_ops) is deprecated and will be removed in a future version.\n",
      "Instructions for updating:\n",
      "\n",
      "Future major versions of TensorFlow will allow gradients to flow\n",
      "into the labels input on backprop by default.\n",
      "\n",
      "See @{tf.nn.softmax_cross_entropy_with_logits_v2}.\n",
      "\n",
      "Iter 0,Training Accuracy 0.92905456 Iter 0,Testing Accuracy 0.9313\n",
      "Iter 1,Training Accuracy 0.9446909 Iter 1,Testing Accuracy 0.9423\n",
      "Iter 2,Training Accuracy 0.952 Iter 2,Testing Accuracy 0.9522\n",
      "Iter 3,Training Accuracy 0.96090907 Iter 3,Testing Accuracy 0.9577\n",
      "Iter 4,Training Accuracy 0.96665454 Iter 4,Testing Accuracy 0.9614\n",
      "Iter 5,Training Accuracy 0.9676727 Iter 5,Testing Accuracy 0.9633\n",
      "Iter 6,Training Accuracy 0.9709091 Iter 6,Testing Accuracy 0.9653\n",
      "Iter 7,Training Accuracy 0.9740546 Iter 7,Testing Accuracy 0.9685\n",
      "Iter 8,Training Accuracy 0.9759455 Iter 8,Testing Accuracy 0.9681\n",
      "Iter 9,Training Accuracy 0.97703636 Iter 9,Testing Accuracy 0.9695\n",
      "Iter 10,Training Accuracy 0.97694546 Iter 10,Testing Accuracy 0.9684\n",
      "Iter 11,Training Accuracy 0.9791091 Iter 11,Testing Accuracy 0.9693\n",
      "Iter 12,Training Accuracy 0.9801273 Iter 12,Testing Accuracy 0.9707\n",
      "Iter 13,Training Accuracy 0.9828 Iter 13,Testing Accuracy 0.9727\n",
      "Iter 14,Training Accuracy 0.9831273 Iter 14,Testing Accuracy 0.9735\n",
      "Iter 15,Training Accuracy 0.98356366 Iter 15,Testing Accuracy 0.9734\n",
      "Iter 16,Training Accuracy 0.9846 Iter 16,Testing Accuracy 0.975\n",
      "Iter 17,Training Accuracy 0.98483634 Iter 17,Testing Accuracy 0.973\n",
      "Iter 18,Training Accuracy 0.9863091 Iter 18,Testing Accuracy 0.9756\n",
      "Iter 19,Training Accuracy 0.98701817 Iter 19,Testing Accuracy 0.9755\n",
      "Iter 20,Training Accuracy 0.9859818 Iter 20,Testing Accuracy 0.9753\n",
      "Iter 21,Training Accuracy 0.98663634 Iter 21,Testing Accuracy 0.9758\n",
      "Iter 22,Training Accuracy 0.9884727 Iter 22,Testing Accuracy 0.9779\n",
      "Iter 23,Training Accuracy 0.98892725 Iter 23,Testing Accuracy 0.978\n",
      "Iter 24,Training Accuracy 0.98874545 Iter 24,Testing Accuracy 0.9779\n",
      "Iter 25,Training Accuracy 0.98954546 Iter 25,Testing Accuracy 0.9771\n",
      "Iter 26,Training Accuracy 0.9891091 Iter 26,Testing Accuracy 0.9764\n",
      "Iter 27,Training Accuracy 0.9899273 Iter 27,Testing Accuracy 0.9781\n",
      "Iter 28,Training Accuracy 0.9910909 Iter 28,Testing Accuracy 0.9785\n",
      "Iter 29,Training Accuracy 0.9910727 Iter 29,Testing Accuracy 0.9773\n",
      "Iter 30,Training Accuracy 0.9911818 Iter 30,Testing Accuracy 0.978\n"
     ]
    }
   ],
   "source": [
    "#每个批次的大小\n",
    "batch_size = 100\n",
    "#计算一共有多少个批次\n",
    "n_batch = mnist.train.num_examples // batch_size\n",
    "\n",
    "#定义两个placeholder\n",
    "x = tf.placeholder(tf.float32,[None,784])\n",
    "y = tf.placeholder(tf.float32,[None,10])\n",
    "keep_prob = tf.placeholder(tf.float32)#控制dropout\n",
    "\n",
    "#创建一个简单的神经网络\n",
    "W1 = tf.Variable(tf.truncated_normal([784,200],stddev=0.1))#权重用截断的正态分布初始化，标准差为0.1\n",
    "b1 = tf.Variable(tf.zeros([200])+0.1)#偏差为0+0.1\n",
    "L1 = tf.nn.tanh(tf.matmul(x,W1)+b1)\n",
    "L1_drop = tf.nn.dropout(L1,keep_prob)\n",
    "\n",
    "W2 = tf.Variable(tf.truncated_normal([200,200],stddev=0.1))#权重用截断的正态分布初始化，标准差为0.1\n",
    "b2 = tf.Variable(tf.zeros([200])+0.1)#偏差为0+0.1\n",
    "L2 = tf.nn.tanh(tf.matmul(L1_drop,W2)+b2)\n",
    "L2_drop = tf.nn.dropout(L2,keep_prob)\n",
    "\n",
    "W3 = tf.Variable(tf.truncated_normal([200,100],stddev=0.1))#权重用截断的正态分布初始化，标准差为0.1\n",
    "b3 = tf.Variable(tf.zeros([100])+0.1)#偏差为0+0.1\n",
    "L3 = tf.nn.tanh(tf.matmul(L2_drop,W3)+b3)\n",
    "L3_drop = tf.nn.dropout(L3,keep_prob)\n",
    "\n",
    "W4 = tf.Variable(tf.truncated_normal([100,10],stddev=0.1))#权重用截断的正态分布初始化，标准差为0.1\n",
    "b4 = tf.Variable(tf.zeros([10])+0.1)#偏差为0+0.1\n",
    "# prediction = tf.nn.softmax(tf.matmul(L3_drop,W4) + b4)\n",
    "# prediction = tf.matmul(x,W) + b\n",
    "prediction = tf.matmul(L3_drop,W4) + b4\n",
    "\n",
    "# #二次代价函数\n",
    "# loss = tf.reduce_mean(tf.square(y-prediction))\n",
    "\n",
    "loss = tf.reduce_mean(tf.nn.softmax_cross_entropy_with_logits(labels=y,logits=prediction))\n",
    "#使用梯度下降法\n",
    "train_step = tf.train.GradientDescentOptimizer(0.2).minimize(loss)\n",
    "\n",
    "#初始化变量\n",
    "init = tf.global_variables_initializer()\n",
    "\n",
    "#结果存放在一个布尔型列表中\n",
    "correct_prediction = tf.equal(tf.argmax(y,axis=1),tf.argmax(prediction,axis=1))#argmax返回一维张量中最大的值所在的位置\n",
    "#求准确率\n",
    "accuracy = tf.reduce_mean(tf.cast(correct_prediction,tf.float32))\n",
    "test_acc_arr = []\n",
    "train_acc_arr = []\n",
    "with tf.Session() as sess:\n",
    "    sess.run(init)\n",
    "    for epoch in range(31):\n",
    "        for batch in range(n_batch):\n",
    "            batch_xs,batch_ys = mnist.train.next_batch(batch_size)\n",
    "            sess.run(train_step,feed_dict={x:batch_xs,y:batch_ys,keep_prob:0.7})#训练dropout\n",
    "        \n",
    "        test_acc = sess.run(accuracy,feed_dict={x:mnist.test.images,y:mnist.test.labels,keep_prob:1.0})#测试不用dropout\n",
    "        test_acc_arr.append(test_acc)\n",
    "        train_acc = sess.run(accuracy,feed_dict={x:mnist.train.images,y:mnist.train.labels,keep_prob:1.0})\n",
    "        train_acc_arr.append(train_acc)\n",
    "        print('Iter ' + str(epoch) + ',Training Accuracy ' + str(train_acc),'Iter ' + str(epoch) + ',Testing Accuracy ' + str(test_acc))"
   ]
  },
  {
   "cell_type": "code",
   "execution_count": 14,
   "metadata": {},
   "outputs": [
    {
     "data": {
      "image/png": "[encoded data removed]",
      "text/plain": [
       "<matplotlib.figure.Figure at 0x1c20385a58>"
      ]
     },
     "metadata": {},
     "output_type": "display_data"
    }
   ],
   "source": [
    "import matplotlib.pyplot as plt\n",
    "\n",
    "plt.plot(test_acc_arr)\n",
    "plt.plot(train_acc_arr)\n",
    "plt.show()"
   ]
  },
  {
   "cell_type": "code",
   "execution_count": null,
   "metadata": {},
   "outputs": [],
   "source": []
  }
 ],
 "metadata": {
  "kernelspec": {
   "display_name": "Python 3",
   "language": "python",
   "name": "python3"
  },
  "language_info": {
   "codemirror_mode": {
    "name": "ipython",
    "version": 3
   },
   "file_extension": ".py",
   "mimetype": "text/x-python",
   "name": "python",
   "nbconvert_exporter": "python",
   "pygments_lexer": "ipython3",
   "version": "3.6.4"
  }
 },
 "nbformat": 4,
 "nbformat_minor": 2
}
