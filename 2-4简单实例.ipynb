{
 "cells": [
  {
   "cell_type": "code",
   "execution_count": 2,
   "metadata": {},
   "outputs": [],
   "source": [
    "import tensorflow as tf\n",
    "import numpy as np"
   ]
  },
  {
   "cell_type": "code",
   "execution_count": 4,
   "metadata": {},
   "outputs": [
    {
     "name": "stdout",
     "output_type": "stream",
     "text": [
      "0 [0.05638523, 0.10096287, 0.015023427]\n",
      "20 [0.105303064, 0.1970209, 2.4820176e-06]\n",
      "40 [0.10307797, 0.19827093, 8.361317e-07]\n",
      "60 [0.101786464, 0.19899644, 2.8166625e-07]\n",
      "80 [0.10103688, 0.19941753, 9.488558e-08]\n",
      "100 [0.100601815, 0.19966193, 3.1964127e-08]\n",
      "120 [0.10034931, 0.19980377, 1.0768706e-08]\n",
      "140 [0.10020275, 0.19988611, 3.627871e-09]\n",
      "160 [0.10011767, 0.1999339, 1.2220036e-09]\n",
      "180 [0.10006829, 0.19996163, 4.116192e-10]\n",
      "200 [0.100039646, 0.19997773, 1.3872706e-10]\n"
     ]
    }
   ],
   "source": [
    "#使用numpy生成100个随机点\n",
    "x_data = np.random.rand(100)\n",
    "y_data = x_data*0.1 + 0.2\n",
    "\n",
    "#构造一个线性模型\n",
    "b = tf.Variable(0.)#变量\n",
    "k = tf.Variable(0.)#变量\n",
    "y = k*x_data + b\n",
    "\n",
    "#二次代价函数\n",
    "loss = tf.reduce_mean(tf.square(y_data-y))\n",
    "#定义一个梯度下降法来进行训练的优化器,学习率为0.2\n",
    "optimizer = tf.train.GradientDescentOptimizer(0.2)\n",
    "#最小化代价函数\n",
    "train = optimizer.minimize(loss)\n",
    "\n",
    "#初始化变量\n",
    "init = tf.global_variables_initializer()\n",
    "\n",
    "with tf.Session() as sess:\n",
    "    sess.run(init)\n",
    "    for step in range(201):\n",
    "        sess.run(train)\n",
    "        if step % 20 == 0:\n",
    "            print(step,sess.run([k,b,loss]))"
   ]
  },
  {
   "cell_type": "code",
   "execution_count": null,
   "metadata": {},
   "outputs": [],
   "source": []
  }
 ],
 "metadata": {
  "kernelspec": {
   "display_name": "Python 3",
   "language": "python",
   "name": "python3"
  },
  "language_info": {
   "codemirror_mode": {
    "name": "ipython",
    "version": 3
   },
   "file_extension": ".py",
   "mimetype": "text/x-python",
   "name": "python",
   "nbconvert_exporter": "python",
   "pygments_lexer": "ipython3",
   "version": "3.6.4"
  }
 },
 "nbformat": 4,
 "nbformat_minor": 2
}
